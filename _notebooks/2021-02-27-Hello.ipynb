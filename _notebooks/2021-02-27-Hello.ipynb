{
 "cells": [
  {
   "cell_type": "markdown",
   "metadata": {},
   "source": [
    "# Hello\n",
    "> Welcome to the blog!\n",
    "\n",
    "- toc: false\n",
    "- badges: false\n",
    "- comments: true\n",
    "- categories: []\n",
    "- image: images/hello.jpg"
   ]
  },
  {
   "cell_type": "markdown",
   "metadata": {},
   "source": [
    "Testing 1, 2, 3... Is anyone out there? Hello to anyone reading this and welcome to this blog. I intend to write here semi-regularly covering various topics in the data science space, as well as deep learning.\n",
    "\n",
    "I am a data scientist at a FTSE 100 company, and do lots of various things covering a wide range of data science techniques but not so much deep learning.\n",
    "\n",
    "I really enjoy deep learning and as you can see on my GitHub page I have done some projects in the past using deep learning techniques, such as:\n",
    "* [handwriting recognition](https://github.com/jc639/pytorch-handwritingCTC)\n",
    "* [character RNN](https://github.com/jc639/pytorch-CharRNN)\n",
    "* [album cover genre image recognition](https://github.com/jc639/album-genre-predictions)\n",
    "\n",
    "But I want to do more stuff regularly and plan to use this blog to do that. The writing here will be a consolidation of any learning and is mainly for me, but if anyone else finds it useful that is great!\n"
   ]
  },
  {
   "cell_type": "code",
   "execution_count": null,
   "metadata": {},
   "outputs": [],
   "source": []
  }
 ],
 "metadata": {
  "kernelspec": {
   "display_name": "visualization-curriculum-gF8wUgMm",
   "language": "python",
   "name": "visualization-curriculum-gf8wugmm"
  },
  "language_info": {
   "codemirror_mode": {
    "name": "ipython",
    "version": 3
   },
   "file_extension": ".py",
   "mimetype": "text/x-python",
   "name": "python",
   "nbconvert_exporter": "python",
   "pygments_lexer": "ipython3",
   "version": "3.6.7"
  },
  "varInspector": {
   "cols": {
    "lenName": 16,
    "lenType": 16,
    "lenVar": 40
   },
   "kernels_config": {
    "python": {
     "delete_cmd_postfix": "",
     "delete_cmd_prefix": "del ",
     "library": "var_list.py",
     "varRefreshCmd": "print(var_dic_list())"
    },
    "r": {
     "delete_cmd_postfix": ") ",
     "delete_cmd_prefix": "rm(",
     "library": "var_list.r",
     "varRefreshCmd": "cat(var_dic_list()) "
    }
   },
   "types_to_exclude": [
    "module",
    "function",
    "builtin_function_or_method",
    "instance",
    "_Feature"
   ],
   "window_display": false
  }
 },
 "nbformat": 4,
 "nbformat_minor": 4
}